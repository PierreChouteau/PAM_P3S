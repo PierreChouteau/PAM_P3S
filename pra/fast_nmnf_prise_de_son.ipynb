{
 "cells": [
  {
   "attachments": {},
   "cell_type": "markdown",
   "metadata": {
    "id": "QYQ3OATSdv_W"
   },
   "source": [
    "## Simulation d'une situation réel avec EnsembleSet"
   ]
  },
  {
   "cell_type": "code",
   "execution_count": null,
   "metadata": {},
   "outputs": [],
   "source": [
    "import IPython.display as ipd\n",
    "from IPython.display import display\n",
    "import pickle\n",
    "import librosa\n",
    "import soundfile as sf\n",
    "import os\n",
    "import matplotlib.pyplot as plt\n",
    "import matplotlib.gridspec as gridspec\n",
    "import itertools\n",
    "import operator\n",
    "import scipy as sp\n",
    "import numpy as np\n",
    "from numpy import typing\n",
    "import pyroomacoustics as pra\n",
    "from mir_eval.separation import bss_eval_sources\n",
    "\n",
    "path_in = \"./data/prise_de_son/Sounds/Full_Version/Take_4\"\n",
    "dictionnary = \"./data/prise_de_son/Sounds/Scales/Matrix/\"\n",
    "save_path = \"./test/prise_de_son_perf/\""
   ]
  },
  {
   "cell_type": "code",
   "execution_count": null,
   "metadata": {},
   "outputs": [],
   "source": [
    "from src import performance, data_processing, fast_nmf"
   ]
  },
  {
   "attachments": {},
   "cell_type": "markdown",
   "metadata": {},
   "source": [
    "### Chargmenent de la data et preprocess"
   ]
  },
  {
   "cell_type": "code",
   "execution_count": null,
   "metadata": {},
   "outputs": [],
   "source": [
    "# load the data\n",
    "files_in, files_tilte = data_processing.get_files(path_in, \".wav\")"
   ]
  },
  {
   "cell_type": "code",
   "execution_count": null,
   "metadata": {},
   "outputs": [],
   "source": [
    "# Microphone à utiliser pour la séparation de sources\n",
    "# microphone_names = [\"Cello\", \"Center\", \"Clarinet\", \"Flute\", \"Left\", \"Right\", \"Violin1\", \"Violin2\"]\n",
    "microphone_names = [\"Left\", \"Center\", \"Right\", \"Violin1\", \"Violin2\", \"Flute\", \"Clarinet\", \"Cello\"]\n",
    "\n",
    "nb_mics = len(microphone_names)  # number of microphones\n",
    "start_time = 37  # seconds\n",
    "audio_length = 10  # seconds\n",
    "samplerate = 48000  # sampling rate\n",
    "\n",
    "mics_signals = np.zeros((nb_mics, audio_length * samplerate), dtype=np.float32)\n",
    "\n",
    "# extract data\n",
    "for mics_index, name in enumerate(microphone_names):\n",
    "    for i, file in enumerate(files_in):\n",
    "        if name in file:\n",
    "            print(file)\n",
    "            data, samplerate = librosa.load(file, sr=None, mono=True)\n",
    "            mics_signals[mics_index, :] =  data[start_time*samplerate : (start_time+audio_length)*samplerate]"
   ]
  },
  {
   "cell_type": "code",
   "execution_count": null,
   "metadata": {},
   "outputs": [],
   "source": [
    "for i, name in enumerate(microphone_names):\n",
    "    print(f\"Microphone: {microphone_names[i]}\")\n",
    "    display(ipd.Audio(mics_signals[i], rate=samplerate))"
   ]
  },
  {
   "attachments": {},
   "cell_type": "markdown",
   "metadata": {},
   "source": [
    "### Définition des variables globales et création des dossiers de visualisations"
   ]
  },
  {
   "cell_type": "code",
   "execution_count": null,
   "metadata": {},
   "outputs": [],
   "source": [
    "SAVE_FIG = (\n",
    "    False  # Si True, on sauvegarde toutes les figures dans les sous-dossiers de 'test'\n",
    ")\n",
    "SAVE_AUDIO = False  # Si True, on sauvegarde tous les fichiers audio dans le sous-dossiers 'audio' de 'test'\n",
    "SAVE_PERF = (\n",
    "    False  # Si True, on sauvegarde toutes les figures dans les sous-dossiers de 'test'\n",
    ")\n",
    "TYPE = \"stft\""
   ]
  },
  {
   "cell_type": "code",
   "execution_count": null,
   "metadata": {},
   "outputs": [],
   "source": [
    "# Permet de créé les dossiers de sauvegarde si les variables permettant la sauvegarde\n",
    "# sont à True\n",
    "\n",
    "try:\n",
    "    os.mkdir(\"./test\")\n",
    "\n",
    "except OSError as error:\n",
    "    pass\n",
    "\n",
    "\n",
    "if SAVE_FIG:\n",
    "    try:\n",
    "        os.mkdir(save_path)\n",
    "\n",
    "        try:\n",
    "            os.mkdir(save_path + \"activation\")\n",
    "            os.mkdir(save_path + \"base\")\n",
    "            os.mkdir(save_path + \"spectro\")\n",
    "            os.mkdir(save_path + \"mix\")\n",
    "        except OSError as error:\n",
    "            pass\n",
    "\n",
    "    except OSError as error:\n",
    "        pass\n",
    "\n",
    "if SAVE_AUDIO:\n",
    "    try:\n",
    "        os.mkdir(save_path + \"audios\")\n",
    "        os.mkdir(save_path + \"audios/separation\")\n",
    "        os.mkdir(save_path + \"audios/no_separation\")\n",
    "        \n",
    "        for name in microphone_names:\n",
    "            os.mkdir(save_path + \"audios/separation/micro_\" + name)\n",
    "\n",
    "    except OSError as error:\n",
    "        pass"
   ]
  },
  {
   "cell_type": "code",
   "execution_count": null,
   "metadata": {
    "id": "jRNKWRlydbs7",
    "outputId": "9f32f76c-3b4c-4e3f-c188-58ed7d83cfb3"
   },
   "outputs": [],
   "source": [
    "L = 16384  # Taille de la fenêtre - Nfft\n",
    "hop = L // 4  # Pas de la fenêtre\n",
    "\n",
    "# Transformations des signaux audio en STFT_multichannel en prennant en compte la room et l'emplacement des micros et sources\n",
    "X = data_processing.spectrogram_from_mics_signal(\n",
    "    mics_signals,\n",
    "    microphone_names,\n",
    "    rate=samplerate,\n",
    "    L=L,\n",
    "    hop=hop,\n",
    "    type=TYPE,\n",
    "    display_audio=False,\n",
    "    display_spectrogram=False,\n",
    ")"
   ]
  },
  {
   "attachments": {},
   "cell_type": "markdown",
   "metadata": {},
   "source": [
    "#### Définitions des W (Dictionnaires)"
   ]
  },
  {
   "cell_type": "code",
   "execution_count": null,
   "metadata": {},
   "outputs": [],
   "source": [
    "W_files = [f for f in os.listdir(dictionnary) if f.endswith(\".npy\")]\n",
    "\n",
    "E = np.zeros((5, L // 2+1, 78))\n",
    "\n",
    "# Load the audio files\n",
    "for i in range(5):\n",
    "    E[i] = np.load(dictionnary + W_files[i])\n",
    "    print(np.min(E[i]))\n",
    "    plt.imshow(np.log(E[i]), aspect=\"auto\")\n",
    "    plt.gca().invert_yaxis()\n",
    "    plt.tight_layout()\n",
    "    plt.title(W_files[i])\n",
    "    plt.show()"
   ]
  },
  {
   "attachments": {},
   "cell_type": "markdown",
   "metadata": {},
   "source": [
    "### Fast MNMF pour la séparation"
   ]
  },
  {
   "cell_type": "code",
   "execution_count": null,
   "metadata": {},
   "outputs": [],
   "source": [
    "# # Parametres de l'algorithme\n",
    "# n_basis = 32  # Nombre de bases\n",
    "# n_iter = 200 # Nombre d'itérations de l'algorithme\n",
    "\n",
    "# print(\"Running fastmnmf2 with auxiva algorithm\")\n",
    "# Y = pra.bss.auxiva(X, \n",
    "#                 n_src=5, \n",
    "#                 n_iter=200, \n",
    "#                 proj_back=True, \n",
    "#                 W0=None, \n",
    "#                 model='laplace', \n",
    "#                 init_eig=False, \n",
    "#                 return_filters=False, \n",
    "#                 callback=None\n",
    "# )"
   ]
  },
  {
   "cell_type": "code",
   "execution_count": null,
   "metadata": {},
   "outputs": [],
   "source": [
    "# Parametres de l'algorithme\n",
    "n_basis = 32  # Nombre de bases\n",
    "n_iter = 1 # Nombre d'itérations de l'algorithme\n",
    "\n",
    "print(\"Running fastmnmf2 with Louis custom algorithm\")\n",
    "Y, W_NFK, H_NKT, g_NM, Q_FMM, Qx_FTM, X_tilde_FTM, Y_tilde_FTM = fast_nmf.fast_MNMF2(\n",
    "    X.transpose(1, 0, 2),\n",
    "    n_iter=n_iter,\n",
    "    n_microphones=mics_signals.shape[0],\n",
    "    n_sources=5,\n",
    "    n_time_frames=X.shape[0],\n",
    "    n_freq_bins=X.shape[1],\n",
    "    n_basis=n_basis,\n",
    "    algo=\"IP\",\n",
    "    mic_index=None,\n",
    "    split=True,\n",
    "    n_activations=X.shape[0] - 1,\n",
    "    n_notes=78,\n",
    "    E_NFL=E\n",
    ")\n",
    "Y = Y.transpose(0, 3, 2, 1)"
   ]
  },
  {
   "cell_type": "code",
   "execution_count": null,
   "metadata": {},
   "outputs": [],
   "source": [
    "if TYPE == 'stft':\n",
    "    # STFT parameters\n",
    "    win_a = pra.hamming(L)\n",
    "    win_s = pra.transform.stft.compute_synthesis_window(win_a, hop)\n",
    "\n",
    "\n",
    "    y = []\n",
    "    for i in range(len(Y)):\n",
    "        signal_ = pra.transform.stft.synthesis(Y[i], L, hop, win=win_s)\n",
    "        signal_ = signal_[L - hop :, :].T\n",
    "        y.append(signal_)\n",
    "        \n",
    "elif TYPE == 'cqt':\n",
    "    y = []\n",
    "    for i in range(len(Y)):\n",
    "        signal_ = librosa.icqt(Y[i].transpose(2,1,0),\n",
    "                               sr=samplerate, \n",
    "                               hop_length=hop, \n",
    "                               fmin=None, \n",
    "                               bins_per_octave=12, \n",
    "                               tuning=0.0, \n",
    "                               filter_scale=1, \n",
    "                               norm=1, \n",
    "                               sparsity=0.01, \n",
    "                               window='hann', \n",
    "                               scale=True, \n",
    "                               length=None, \n",
    "                               res_type='fft', \n",
    "                               dtype=None)\n",
    "        y.append(signal_)\n",
    "\n",
    "\n",
    "# shape of y = (n_mics, n_sources, n_samples)\n",
    "y = np.array(y)"
   ]
  },
  {
   "attachments": {},
   "cell_type": "markdown",
   "metadata": {},
   "source": [
    "### Un peu de visualisation"
   ]
  },
  {
   "cell_type": "code",
   "execution_count": null,
   "metadata": {},
   "outputs": [],
   "source": [
    "mic_plot_sep = 1\n",
    "\n",
    "plt.specgram(mics_signals[mic_plot_sep], NFFT=1024, Fs=samplerate)\n",
    "plt.title(\"Signal micro \" + microphone_names[mic_plot_sep])\n",
    "plt.show()"
   ]
  },
  {
   "cell_type": "code",
   "execution_count": null,
   "metadata": {},
   "outputs": [],
   "source": [
    "# Correspond à la séparation de source, micro_plot_sep\n",
    "\n",
    "fig = plt.figure()\n",
    "fig.set_size_inches(10, 8)\n",
    "\n",
    "gs = gridspec.GridSpec(3, 2)\n",
    "\n",
    "for i in range(2):\n",
    "    ax = fig.add_subplot(gs[0, i])  \n",
    "    ax.specgram(y[mic_plot_sep][i, :], NFFT=1024, Fs=samplerate)\n",
    "    ax.set_title(f\"Source {i} (séparé)\")\n",
    "\n",
    "for i in range(2):\n",
    "    ax = fig.add_subplot(gs[1, i])  \n",
    "    ax.specgram(y[mic_plot_sep][i+2, :], NFFT=1024, Fs=samplerate)\n",
    "    ax.set_title(f\"Source {i+2} (séparé)\")\n",
    "\n",
    "\n",
    "ax = fig.add_subplot(gs[2, :])  \n",
    "ax.specgram(y[mic_plot_sep][4, :], NFFT=1024, Fs=samplerate)\n",
    "ax.set_title(f\"Source {5} (séparé)\")\n",
    "\n",
    "\n",
    "plt.tight_layout()\n",
    "\n",
    "fig.tight_layout(pad=2.5)\n",
    "fig.suptitle(\n",
    "    \"spectro_source0123_micro_\"\n",
    "    + microphone_names[mic_plot_sep]\n",
    "    + \"_n_basis_\"\n",
    "    + str(n_basis)\n",
    "    + \"_n_fft_\"\n",
    "    + str(L)\n",
    ")\n",
    "\n",
    "if SAVE_FIG:\n",
    "    fig.savefig(\n",
    "        save_path\n",
    "        + \"spectro/\"\n",
    "        + \"spectro_source0123_micro_\"\n",
    "        + microphone_names[mic_plot_sep]\n",
    "        + \"_n_basis_\"\n",
    "        + str(n_basis)\n",
    "        + \"_n_fft_\"\n",
    "        + str(L)\n",
    "        + \".pdf\"\n",
    "    )"
   ]
  },
  {
   "attachments": {},
   "cell_type": "markdown",
   "metadata": {},
   "source": [
    "#### Ecoute maintenant "
   ]
  },
  {
   "attachments": {},
   "cell_type": "markdown",
   "metadata": {},
   "source": [
    "##### Pas de séparation"
   ]
  },
  {
   "cell_type": "code",
   "execution_count": null,
   "metadata": {},
   "outputs": [],
   "source": [
    "print(\"Listening of Audio at each microphones without separation\")\n",
    "\n",
    "for micro_n in range(mics_signals.shape[0]):\n",
    "    print(\"Microphone \" + microphone_names[micro_n] + \" : \")\n",
    "    display(ipd.Audio(mics_signals[micro_n, :], rate=samplerate))\n",
    "    if SAVE_AUDIO:\n",
    "        sp.io.wavfile.write(\n",
    "            save_path\n",
    "            + \"audios/no_separation/\"\n",
    "            + \"micro_\" + microphone_names[micro_n]\n",
    "            + \".wav\",\n",
    "            samplerate,\n",
    "            mics_signals[micro_n],\n",
    "        )"
   ]
  },
  {
   "attachments": {},
   "cell_type": "markdown",
   "metadata": {},
   "source": [
    "##### Séparation des sources"
   ]
  },
  {
   "cell_type": "code",
   "execution_count": null,
   "metadata": {},
   "outputs": [],
   "source": [
    "def ecoute_separation_micro(mic, microphone_names, y, save, rate):\n",
    "    \"\"\"Fonction permettant d'écouter les audios séparés pour un micro donné et de les sauvegarder si save=True\n",
    "\n",
    "    Args:\n",
    "        mic (int): index du microphone dont on veut écouter la séparation\n",
    "        y (array): array contenant les signaux audios séparés pour chaque microphones\n",
    "        save (boolean): True si on veut sauvegarder les audios séparés, False sinon\n",
    "    \"\"\"\n",
    "\n",
    "    for source_n in range(len(y[0])):\n",
    "        print(\n",
    "            \"Listening of Audio at microphone \"\n",
    "            + microphone_names[mic]\n",
    "            + \" for source \"\n",
    "            + str(source_n)\n",
    "        )\n",
    "        display(ipd.Audio(y[mic][source_n], rate=rate))\n",
    "        if save:\n",
    "                sp.io.wavfile.write(\n",
    "                    save_path\n",
    "                    + \"audios/separation/micro_\"\n",
    "                    + microphone_names[mic]\n",
    "                    + \"/\"\n",
    "                    + \"source_\"+str(source_n)+\"_micro_\"\n",
    "                    + microphone_names[mic]\n",
    "                    + \"_audio_length_\"\n",
    "                    + str(audio_length)\n",
    "                    + \"_n_basis_\"\n",
    "                    + str(n_basis)\n",
    "                    + \"_n_fft_\"\n",
    "                    + str(L)\n",
    "                    + \".wav\",\n",
    "                    rate,\n",
    "                    y[mic][source_n].astype(np.float32),\n",
    "                )"
   ]
  },
  {
   "cell_type": "code",
   "execution_count": null,
   "metadata": {},
   "outputs": [],
   "source": [
    "ecoute_separation_micro(0, microphone_names, y, SAVE_AUDIO, rate=samplerate)"
   ]
  },
  {
   "cell_type": "code",
   "execution_count": null,
   "metadata": {},
   "outputs": [],
   "source": [
    "ecoute_separation_micro(1, microphone_names, y, SAVE_AUDIO, rate=samplerate)"
   ]
  },
  {
   "cell_type": "code",
   "execution_count": null,
   "metadata": {},
   "outputs": [],
   "source": [
    "ecoute_separation_micro(2, microphone_names, y, SAVE_AUDIO, rate=samplerate)"
   ]
  },
  {
   "cell_type": "code",
   "execution_count": null,
   "metadata": {},
   "outputs": [],
   "source": [
    "ecoute_separation_micro(3, microphone_names, y, SAVE_AUDIO, rate=samplerate)"
   ]
  },
  {
   "cell_type": "code",
   "execution_count": null,
   "metadata": {},
   "outputs": [],
   "source": [
    "ecoute_separation_micro(4, microphone_names, y, SAVE_AUDIO, rate=samplerate)"
   ]
  },
  {
   "cell_type": "code",
   "execution_count": null,
   "metadata": {},
   "outputs": [],
   "source": [
    "ecoute_separation_micro(5, microphone_names, y, SAVE_AUDIO, rate=samplerate)"
   ]
  },
  {
   "cell_type": "code",
   "execution_count": null,
   "metadata": {},
   "outputs": [],
   "source": [
    "ecoute_separation_micro(6, microphone_names, y, SAVE_AUDIO, rate=samplerate)"
   ]
  },
  {
   "cell_type": "code",
   "execution_count": null,
   "metadata": {},
   "outputs": [],
   "source": [
    "ecoute_separation_micro(7, microphone_names, y, SAVE_AUDIO, rate=samplerate)"
   ]
  },
  {
   "cell_type": "markdown",
   "metadata": {},
   "source": [
    "### Visualisation des matrices intermédiaires"
   ]
  },
  {
   "attachments": {},
   "cell_type": "markdown",
   "metadata": {},
   "source": [
    "#### Représentation of g, and G (covariance et matrice spatiale)"
   ]
  },
  {
   "cell_type": "code",
   "execution_count": null,
   "metadata": {},
   "outputs": [],
   "source": [
    "plt.imshow(g_NM[:, :], cmap=\"inferno\", aspect=\"auto\")\n",
    "plt.title(\"g_NM\")\n",
    "plt.tight_layout()\n",
    "\n",
    "if SAVE_FIG:\n",
    "    plt.savefig(\n",
    "        save_path\n",
    "        + \"mix/g_mn_n_basis_\"\n",
    "        + str(n_basis)\n",
    "        + \"_n_fft_\"\n",
    "        + str(L)\n",
    "        + \".pdf\"\n",
    "    )"
   ]
  },
  {
   "cell_type": "code",
   "execution_count": null,
   "metadata": {},
   "outputs": [],
   "source": [
    "def G_mix(Q_FMM, g_NM):\n",
    "    g_NMM = []\n",
    "    for n_source in range(g_NM.shape[0]):\n",
    "        g_NMM.append(np.diag(g_NM[n_source]))\n",
    "\n",
    "    g_NMM = np.array(g_NMM)\n",
    "\n",
    "    G_NF = np.einsum(\n",
    "        \"fij, nij, ijf -> ni\",\n",
    "        np.linalg.inv(Q_FMM),\n",
    "        g_NMM,\n",
    "        np.linalg.inv(Q_FMM).conj().T,\n",
    "    )\n",
    "    return G_NF"
   ]
  },
  {
   "cell_type": "code",
   "execution_count": null,
   "metadata": {},
   "outputs": [],
   "source": [
    "# G_NF\n",
    "G_NF = G_mix(Q_FMM, g_NM)"
   ]
  },
  {
   "cell_type": "code",
   "execution_count": null,
   "metadata": {},
   "outputs": [],
   "source": [
    "plt.imshow(np.log(np.abs(G_NF)), cmap=\"inferno\", aspect=\"auto\")\n",
    "plt.colorbar()\n",
    "plt.title(\"G_NF_n_basis_\" + str(n_basis) + \"_n_fft_\" + str(L))\n",
    "plt.tight_layout()\n",
    "\n",
    "if SAVE_FIG:\n",
    "    plt.savefig(\n",
    "        save_path\n",
    "        + \"mix/G_NF_n_basis_\"\n",
    "        + str(n_basis)\n",
    "        + \"_n_fft_\"\n",
    "        + str(L)\n",
    "        + \".pdf\"\n",
    "    )"
   ]
  },
  {
   "attachments": {},
   "cell_type": "markdown",
   "metadata": {},
   "source": [
    "#### Représentation de U"
   ]
  },
  {
   "cell_type": "code",
   "execution_count": null,
   "metadata": {},
   "outputs": [],
   "source": [
    "# Correspond à la séparation de source, micro_plot_sep\n",
    "\n",
    "fig = plt.figure()\n",
    "fig.set_size_inches(10, 6)\n",
    "\n",
    "gs = gridspec.GridSpec(3, 2)\n",
    "\n",
    "for i in range(2):\n",
    "    ax = fig.add_subplot(gs[0, i])\n",
    "    ax.imshow(np.log(W_NFK[i, :, :]), cmap=\"inferno\", aspect=\"auto\")\n",
    "    ax.invert_yaxis()\n",
    "    ax.set_title(f\"Matrice de base W{i}\")\n",
    "\n",
    "for i in range(2):\n",
    "    ax = fig.add_subplot(gs[1, i])  \n",
    "    ax.imshow(np.log(W_NFK[i+2, :, :]), cmap=\"inferno\", aspect=\"auto\")\n",
    "    ax.invert_yaxis()\n",
    "    ax.set_title(f\"Matrice de base W{i+2}\")\n",
    "\n",
    "\n",
    "ax = fig.add_subplot(gs[2, :])  \n",
    "ax.imshow(np.log(W_NFK[4, :, :]), cmap=\"inferno\", aspect=\"auto\")\n",
    "ax.invert_yaxis()\n",
    "ax.set_title(f\"Matrice de base W{4}\")\n",
    "\n",
    "\n",
    "plt.tight_layout()\n",
    "\n",
    "fig.tight_layout(pad=2.5)\n",
    "fig.suptitle(\"W_NFK_n_basis_\" + str(n_basis) + \"_n_fft_\" + str(L))\n",
    "\n",
    "if SAVE_FIG:\n",
    "    fig.savefig(\n",
    "        save_path\n",
    "        + \"base/W_NFK_n_basis_\"\n",
    "        + str(n_basis)\n",
    "        + \"_n_fft_\"\n",
    "        + str(L)\n",
    "        + \".pdf\"\n",
    "    )"
   ]
  },
  {
   "attachments": {},
   "cell_type": "markdown",
   "metadata": {},
   "source": [
    "#### Représentation de T"
   ]
  },
  {
   "cell_type": "code",
   "execution_count": null,
   "metadata": {},
   "outputs": [],
   "source": [
    "# Correspond à la séparation de source, micro_plot_sep\n",
    "\n",
    "fig = plt.figure()\n",
    "fig.set_size_inches(10, 8)\n",
    "\n",
    "gs = gridspec.GridSpec(3, 2)\n",
    "\n",
    "for i in range(2):\n",
    "    ax = fig.add_subplot(gs[0, i])  \n",
    "    ax.imshow(H_NKT[i, :, :], cmap=\"inferno\", aspect=\"auto\")\n",
    "    ax.invert_yaxis()\n",
    "    ax.set_title(f\"Matrice de base H{i}\")\n",
    "\n",
    "for i in range(2):\n",
    "    ax = fig.add_subplot(gs[1, i])  \n",
    "    ax.imshow(H_NKT[i+2, :, :], cmap=\"inferno\", aspect=\"auto\")\n",
    "    ax.invert_yaxis()\n",
    "    ax.set_title(f\"Matrice de base H{i+2}\")\n",
    "\n",
    "\n",
    "ax = fig.add_subplot(gs[2, :])  \n",
    "ax.imshow(H_NKT[4, :, :], cmap=\"inferno\", aspect=\"auto\")\n",
    "ax.invert_yaxis()\n",
    "ax.set_title(f\"Matrice de base H{4}\")\n",
    "\n",
    "\n",
    "plt.tight_layout()\n",
    "\n",
    "fig.tight_layout(pad=2.5)\n",
    "fig.suptitle(\"H_NKT_n_basis_\" + str(n_basis) + \"_n_fft_\" + str(L))\n",
    "\n",
    "if SAVE_FIG:\n",
    "    fig.savefig(\n",
    "        save_path\n",
    "        + \"activation/H_NKT_n_basis_\"\n",
    "        + str(n_basis)\n",
    "        + \"_n_fft_\"\n",
    "        + str(L)\n",
    "        + \".pdf\"\n",
    "    )"
   ]
  },
  {
   "attachments": {},
   "cell_type": "markdown",
   "metadata": {},
   "source": [
    "### Représentation de W et H"
   ]
  },
  {
   "cell_type": "code",
   "execution_count": null,
   "metadata": {},
   "outputs": [],
   "source": [
    "W_old_NFK = np.einsum(\"nfl, nlk -> nfk\", E, W_NFK)"
   ]
  },
  {
   "cell_type": "code",
   "execution_count": null,
   "metadata": {},
   "outputs": [],
   "source": [
    "# Correspond à la séparation de source, micro_plot_sep\n",
    "\n",
    "fig = plt.figure()\n",
    "fig.set_size_inches(10, 8)\n",
    "\n",
    "gs = gridspec.GridSpec(3, 2)\n",
    "\n",
    "for i in range(2):\n",
    "    ax = fig.add_subplot(gs[0, i])  \n",
    "    ax.imshow(W_old_NFK[i, :, :], cmap=\"inferno\", aspect=\"auto\")\n",
    "    ax.invert_yaxis()\n",
    "    ax.set_title(f\"Matrice de base W{i}\")\n",
    "\n",
    "for i in range(2):\n",
    "    ax = fig.add_subplot(gs[1, i])  \n",
    "    ax.imshow(W_old_NFK[i+2, :, :], cmap=\"inferno\", aspect=\"auto\")\n",
    "    ax.invert_yaxis()\n",
    "    ax.set_title(f\"Matrice de base W{i+2}\")\n",
    "\n",
    "\n",
    "ax = fig.add_subplot(gs[2, :])  \n",
    "ax.imshow(W_old_NFK[4, :, :], cmap=\"inferno\", aspect=\"auto\")\n",
    "ax.invert_yaxis()\n",
    "ax.set_title(f\"Matrice de base W{4}\")\n",
    "\n",
    "\n",
    "plt.tight_layout()"
   ]
  },
  {
   "cell_type": "code",
   "execution_count": null,
   "metadata": {},
   "outputs": [],
   "source": [
    "_, P_NOT = fast_nmf.init_EP_split(n_sources=5,\n",
    "        n_time_frames=X.shape[0],\n",
    "        n_FFT=L,\n",
    "        n_activations=X.shape[0] - 1,\n",
    "        n_notes=X.shape[1] - 1\n",
    "        )\n",
    "\n",
    "H_NKT_old = np.einsum(\"nko, not -> nkt\", H_NKT, P_NOT)"
   ]
  },
  {
   "cell_type": "code",
   "execution_count": null,
   "metadata": {},
   "outputs": [],
   "source": [
    "# Correspond à la séparation de source, micro_plot_sep\n",
    "\n",
    "fig = plt.figure()\n",
    "fig.set_size_inches(10, 8)\n",
    "\n",
    "gs = gridspec.GridSpec(3, 2)\n",
    "\n",
    "for i in range(2):\n",
    "    ax = fig.add_subplot(gs[0, i])  \n",
    "    ax.imshow(H_NKT_old[i, :, :], cmap=\"inferno\", aspect=\"auto\")\n",
    "    ax.invert_yaxis()\n",
    "    ax.set_title(f\"Matrice de base H{i}\")\n",
    "\n",
    "for i in range(2):\n",
    "    ax = fig.add_subplot(gs[1, i])  \n",
    "    ax.imshow(H_NKT_old[i+2, :, :], cmap=\"inferno\", aspect=\"auto\")\n",
    "    ax.invert_yaxis()\n",
    "    ax.set_title(f\"Matrice de base H{i+2}\")\n",
    "\n",
    "\n",
    "ax = fig.add_subplot(gs[2, :])  \n",
    "ax.imshow(H_NKT_old[4, :, :], cmap=\"inferno\", aspect=\"auto\")\n",
    "ax.invert_yaxis()\n",
    "ax.set_title(f\"Matrice de base H{4}\")\n",
    "\n",
    "\n",
    "plt.tight_layout()"
   ]
  },
  {
   "cell_type": "code",
   "execution_count": null,
   "metadata": {},
   "outputs": [],
   "source": []
  }
 ],
 "metadata": {
  "kernelspec": {
   "display_name": "P3S",
   "language": "python",
   "name": "python3"
  },
  "language_info": {
   "codemirror_mode": {
    "name": "ipython",
    "version": 3
   },
   "file_extension": ".py",
   "mimetype": "text/x-python",
   "name": "python",
   "nbconvert_exporter": "python",
   "pygments_lexer": "ipython3",
   "version": "3.10.8"
  },
  "orig_nbformat": 4,
  "vscode": {
   "interpreter": {
    "hash": "2011a595c94b6a73b54060f6a4d9915a152f934cd74fcad2403d0e39c89de16a"
   }
  }
 },
 "nbformat": 4,
 "nbformat_minor": 2
}
