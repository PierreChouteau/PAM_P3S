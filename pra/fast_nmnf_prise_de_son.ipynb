{
 "cells": [
  {
   "attachments": {},
   "cell_type": "markdown",
   "metadata": {
    "id": "QYQ3OATSdv_W"
   },
   "source": [
    "## Simulation d'une situation réel avec EnsembleSet"
   ]
  },
  {
   "cell_type": "code",
   "execution_count": null,
   "metadata": {},
   "outputs": [],
   "source": [
    "import IPython.display as ipd\n",
    "from IPython.display import display\n",
    "import pickle\n",
    "import librosa\n",
    "import os\n",
    "import matplotlib.pyplot as plt\n",
    "import itertools\n",
    "import operator\n",
    "import soundfile as sf\n",
    "import scipy as sp\n",
    "import numpy as np\n",
    "from numpy import typing\n",
    "import pyroomacoustics as pra\n",
    "from mir_eval.separation import bss_eval_sources\n",
    "\n",
    "path_in = \"./data/prise_de_son/\"\n",
    "save_path = \"./test/prise_de_son_perf/\""
   ]
  },
  {
   "cell_type": "code",
   "execution_count": null,
   "metadata": {},
   "outputs": [],
   "source": [
    "from src import performance, data_processing, fast_nmf"
   ]
  },
  {
   "attachments": {},
   "cell_type": "markdown",
   "metadata": {},
   "source": [
    "### Chargmenent de la data et preprocess"
   ]
  },
  {
   "cell_type": "code",
   "execution_count": null,
   "metadata": {},
   "outputs": [],
   "source": [
    "# load the data\n",
    "files_in, files_tilte = data_processing.get_files(path_in, \".wav\")"
   ]
  },
  {
   "cell_type": "code",
   "execution_count": null,
   "metadata": {},
   "outputs": [],
   "source": [
    "nb_mics = 2  # number of microphones\n",
    "audio_length = 10  # seconds\n",
    "samplerate = 44100  # sampling rate\n",
    "\n",
    "mics_signals = np.zeros((nb_mics, audio_length * samplerate), dtype=np.float32)\n",
    "microphone_names = [\"microphone_1\", \"microphone_2\"]\n",
    "\n",
    "# extract data\n",
    "for i, file in enumerate(files_in):\n",
    "    data, samplerate = librosa.load(file, sr=None, mono=False)\n",
    "    mics_signals[i, :] = np.mean(\n",
    "        data[:, : audio_length * samplerate], axis=0\n",
    "    )  # average on channels and stack signals"
   ]
  },
  {
   "cell_type": "code",
   "execution_count": null,
   "metadata": {},
   "outputs": [],
   "source": [
    "print(f\"Microphone: {microphone_names[0]}\")\n",
    "ipd.Audio(mics_signals[0], rate=samplerate)"
   ]
  },
  {
   "cell_type": "code",
   "execution_count": null,
   "metadata": {},
   "outputs": [],
   "source": [
    "print(f\"Microphone: {microphone_names[1]}\")\n",
    "ipd.Audio(mics_signals[1], rate=samplerate)"
   ]
  },
  {
   "attachments": {},
   "cell_type": "markdown",
   "metadata": {},
   "source": [
    "### Définition des variables globales et création des dossiers de visualisations"
   ]
  },
  {
   "cell_type": "code",
   "execution_count": null,
   "metadata": {},
   "outputs": [],
   "source": [
    "SAVE_FIG = (\n",
    "    False  # Si True, on sauvegarde toutes les figures dans les sous-dossiers de 'test'\n",
    ")\n",
    "SAVE_AUDIO = False  # Si True, on sauvegarde tous les fichiers audio dans le sous-dossiers 'audio' de 'test'\n",
    "SAVE_PERF = (\n",
    "    False  # Si True, on sauvegarde toutes les figures dans les sous-dossiers de 'test'\n",
    ")\n",
    "TYPE = \"stft\""
   ]
  },
  {
   "cell_type": "code",
   "execution_count": null,
   "metadata": {},
   "outputs": [],
   "source": [
    "# Permet de créé les dossiers de sauvegarde si les variables permettant la sauvegarde\n",
    "# sont à True\n",
    "\n",
    "try:\n",
    "    os.mkdir(\"./test\")\n",
    "\n",
    "except OSError as error:\n",
    "    pass\n",
    "\n",
    "\n",
    "if SAVE_FIG:\n",
    "    try:\n",
    "        os.mkdir(save_path)\n",
    "\n",
    "        try:\n",
    "            os.mkdir(save_path + \"activation\")\n",
    "            os.mkdir(save_path + \"base\")\n",
    "            os.mkdir(save_path + \"spectro\")\n",
    "            os.mkdir(save_path + \"mix\")\n",
    "        except OSError as error:\n",
    "            pass\n",
    "\n",
    "    except OSError as error:\n",
    "        pass\n",
    "\n",
    "if SAVE_AUDIO:\n",
    "    try:\n",
    "        os.mkdir(save_path + \"audios\")\n",
    "        os.mkdir(save_path + \"audios/separation\")\n",
    "\n",
    "        os.mkdir(save_path + \"audios/separation/micro_1\")\n",
    "        os.mkdir(save_path + \"audios/separation/micro_2\")\n",
    "\n",
    "    except OSError as error:\n",
    "        pass"
   ]
  },
  {
   "cell_type": "code",
   "execution_count": null,
   "metadata": {
    "id": "jRNKWRlydbs7",
    "outputId": "9f32f76c-3b4c-4e3f-c188-58ed7d83cfb3"
   },
   "outputs": [],
   "source": [
    "L = 2048  # Taille de la fenêtre\n",
    "hop = 512  # Pas de la fenêtre\n",
    "\n",
    "# Transformations des signaux audio en STFT_multichannel en prennant en compte la room et l'emplacement des micros et sources\n",
    "X = data_processing.spectrogram_from_mics_signal(\n",
    "    mics_signals,\n",
    "    microphone_names,\n",
    "    rate=samplerate,\n",
    "    L=L,\n",
    "    hop=hop,\n",
    "    type=TYPE,\n",
    "    display_audio=True,\n",
    "    display_spectrogram=False,\n",
    ")"
   ]
  },
  {
   "attachments": {},
   "cell_type": "markdown",
   "metadata": {},
   "source": [
    "#### Définitions des W (Dictionnaires)"
   ]
  },
  {
   "cell_type": "code",
   "execution_count": null,
   "metadata": {},
   "outputs": [],
   "source": [
    "dico_path = \"./data/dictionnaire/piano/\"\n",
    "pitch_min = 21\n",
    "pitch_max = 109\n",
    "\n",
    "W_piano, notes_piano, notes_piano_psd, freqs = data_processing.compute_W(\n",
    "    dico_path, L=L, pitch_min=21, pitch_max=109\n",
    ")"
   ]
  },
  {
   "cell_type": "code",
   "execution_count": null,
   "metadata": {},
   "outputs": [],
   "source": [
    "# visualisation du dictionnaire w du piano\n",
    "\n",
    "fig = plt.figure()\n",
    "fig.set_size_inches(8, 4)\n",
    "\n",
    "plt.imshow(W_piano, aspect=\"auto\")\n",
    "plt.gca().invert_yaxis()\n",
    "plt.tight_layout()\n",
    "\n",
    "plt.title(\"Dictionnaire W du piano\")\n",
    "plt.show()"
   ]
  },
  {
   "cell_type": "code",
   "execution_count": null,
   "metadata": {},
   "outputs": [],
   "source": [
    "# visualisation d'un psd d'un note du piano\n",
    "\n",
    "fig = plt.figure()\n",
    "fig.set_size_inches(8, 4)\n",
    "\n",
    "plt.semilogy(freqs * 22050, notes_piano_psd[27])\n",
    "plt.xlabel(\"frequency [Hz]\")\n",
    "plt.ylabel(\"PSD [V**2/Hz]\")\n",
    "\n",
    "plt.tight_layout()\n",
    "plt.title(\"PSD de la note 27 du piano\")\n",
    "plt.show()"
   ]
  },
  {
   "attachments": {},
   "cell_type": "markdown",
   "metadata": {},
   "source": [
    "### Fast MNMF pour la séparation"
   ]
  },
  {
   "cell_type": "code",
   "execution_count": null,
   "metadata": {},
   "outputs": [],
   "source": [
    "# Parametres de l'algorithme\n",
    "n_basis = 32\n",
    "n_iter = 100\n",
    "\n",
    "print(\"Running fastmnmf2 with Louis custom algorithm\")\n",
    "Y, W_NFK, H_NKT, g_NM, Q_FMM, Qx_FTM, X_tilde_FTM, Y_tilde_FTM = fast_nmf.fast_MNMF2(\n",
    "    X.transpose(1, 0, 2),\n",
    "    n_iter=n_iter,\n",
    "    n_microphones=mics_signals.shape[0],\n",
    "    n_sources=2,\n",
    "    n_time_frames=X.shape[0],\n",
    "    n_freq_bins=X.shape[1],\n",
    "    n_basis=n_basis,\n",
    "    algo=\"IP\",\n",
    "    mic_index=None,\n",
    ")\n",
    "Y = Y.transpose(0, 3, 2, 1)"
   ]
  },
  {
   "attachments": {},
   "cell_type": "markdown",
   "metadata": {},
   "source": [
    "### Un peu de visualisation"
   ]
  },
  {
   "cell_type": "code",
   "execution_count": null,
   "metadata": {},
   "outputs": [],
   "source": [
    "plt.specgram(mics_signals[0], NFFT=1024, Fs=samplerate)\n",
    "plt.title(\"Signal micro 1\")"
   ]
  },
  {
   "cell_type": "code",
   "execution_count": null,
   "metadata": {},
   "outputs": [],
   "source": [
    "# Correspond à la séparation de source, micro_plot_sep\n",
    "mic_plot_sep = 0\n",
    "\n",
    "fig = plt.figure()\n",
    "fig.set_size_inches(10, 6)\n",
    "\n",
    "plt.subplot(2, 2, 1)\n",
    "plt.specgram(y[mic_plot_sep][0, :], NFFT=1024, Fs=samplerate)\n",
    "plt.title(\"Source 0 (séparé)\")\n",
    "\n",
    "plt.subplot(2, 2, 2)\n",
    "plt.specgram(y[mic_plot_sep][1, :], NFFT=1024, Fs=samplerate)\n",
    "plt.title(\"Source 1 (séparé)\")\n",
    "\n",
    "plt.subplot(2, 2, 3)\n",
    "plt.specgram(y[mic_plot_sep][2, :], NFFT=1024, Fs=samplerate)\n",
    "plt.title(\"Source 2 (séparé)\")\n",
    "\n",
    "plt.subplot(2, 2, 4)\n",
    "plt.specgram(y[mic_plot_sep][3, :], NFFT=1024, Fs=samplerate)\n",
    "plt.title(\"Source 3 (séparé)\")\n",
    "\n",
    "plt.tight_layout()\n",
    "\n",
    "fig.tight_layout(pad=2.5)\n",
    "fig.suptitle(\n",
    "    \"spectro_source01_micro_\"\n",
    "    + microphone_names[mic_plot_sep]\n",
    "    + \"_n_basis_\"\n",
    "    + str(n_basis)\n",
    "    + \"_n_fft_\"\n",
    "    + str(L)\n",
    ")\n",
    "\n",
    "if SAVE_FIG:\n",
    "    fig.savefig(\n",
    "        save_path\n",
    "        + \"spectro/\"\n",
    "        + \"spectro_source0123_micro_\"\n",
    "        + microphone_names[mic_plot_sep]\n",
    "        + \"_n_basis_\"\n",
    "        + str(n_basis)\n",
    "        + \"_n_fft_\"\n",
    "        + str(L)\n",
    "        + \".pdf\"\n",
    "    )"
   ]
  },
  {
   "attachments": {},
   "cell_type": "markdown",
   "metadata": {},
   "source": [
    "#### Ecoute maintenant "
   ]
  },
  {
   "cell_type": "code",
   "execution_count": null,
   "metadata": {},
   "outputs": [],
   "source": [
    "if TYPE == \"stft\":\n",
    "    # STFT parameters\n",
    "    win_a = pra.hamming(L)\n",
    "    win_s = pra.transform.stft.compute_synthesis_window(win_a, hop)\n",
    "\n",
    "    y = []\n",
    "    for i in range(len(Y)):\n",
    "        signal_ = pra.transform.stft.synthesis(Y[i], L, hop, win=win_s)\n",
    "        signal_ = signal_[L - hop :, :].T\n",
    "        y.append(signal_)\n",
    "\n",
    "elif TYPE == \"cqt\":\n",
    "    y = []\n",
    "    for i in range(len(Y)):\n",
    "        signal_ = librosa.icqt(\n",
    "            Y[i].transpose(2, 1, 0),\n",
    "            sr=rate,\n",
    "            hop_length=hop,\n",
    "            fmin=None,\n",
    "            bins_per_octave=12,\n",
    "            tuning=0.0,\n",
    "            filter_scale=1,\n",
    "            norm=1,\n",
    "            sparsity=0.01,\n",
    "            window=\"hann\",\n",
    "            scale=True,\n",
    "            length=None,\n",
    "            res_type=\"fft\",\n",
    "            dtype=None,\n",
    "        )\n",
    "        y.append(signal_)\n",
    "\n",
    "# shape of y = (n_mics, n_sources, n_samples)\n",
    "y = np.array(y)"
   ]
  },
  {
   "attachments": {},
   "cell_type": "markdown",
   "metadata": {},
   "source": [
    "##### Pas de séparation"
   ]
  },
  {
   "cell_type": "code",
   "execution_count": null,
   "metadata": {},
   "outputs": [],
   "source": [
    "print(\"Listening of Audio at each microphones without separation\")\n",
    "\n",
    "for micro_n in range(mics_signals.shape[0]):\n",
    "    display(ipd.Audio(mics_signals[micro_n, :], rate=44100))\n",
    "    if SAVE_AUDIO:\n",
    "        sf.write(\n",
    "            save_path\n",
    "            + \"audios/no_separation/micro_\"\n",
    "            + microphone_names[micro_n]\n",
    "            + \"/\"\n",
    "            + \"globals_micro_\"\n",
    "            + microphone_names[micro_n]\n",
    "            + \".wav\",\n",
    "            44100,\n",
    "            mics_signals[micro_n],\n",
    "        )"
   ]
  },
  {
   "attachments": {},
   "cell_type": "markdown",
   "metadata": {},
   "source": [
    "##### Séparation des sources"
   ]
  },
  {
   "cell_type": "code",
   "execution_count": null,
   "metadata": {},
   "outputs": [],
   "source": [
    "def ecoute_separation_micro(mic, y, save):\n",
    "    \"\"\"Fonction permettant d'écouter les audios séparés pour un micro donné et de les sauvegarder si save=True\n",
    "\n",
    "    Args:\n",
    "        mic (int): index du microphone dont on veut écouter la séparation\n",
    "        y (array): array contenant les signaux audios séparés pour chaque microphones\n",
    "        save (boolean): True si on veut sauvegarder les audios séparés, False sinon\n",
    "    \"\"\"\n",
    "\n",
    "    for source_n in range(len(y[0])):\n",
    "        print(\n",
    "            \"Listening of Audio at microphone \"\n",
    "            + str(mic)\n",
    "            + \" for source \"\n",
    "            + str(source_n)\n",
    "        )\n",
    "        display(ipd.Audio(y[mic][source_n], rate=44100))"
   ]
  },
  {
   "cell_type": "code",
   "execution_count": null,
   "metadata": {},
   "outputs": [],
   "source": [
    "print(\"Listening of Audios at microphones 0 with separation\")\n",
    "ecoute_separation_micro(0, y, SAVE_AUDIO)"
   ]
  },
  {
   "cell_type": "code",
   "execution_count": null,
   "metadata": {},
   "outputs": [],
   "source": [
    "print(\"Listening of Audios at microphones 1 (couple) with separation\")\n",
    "ecoute_separation_micro(1, y, SAVE_AUDIO)"
   ]
  },
  {
   "cell_type": "markdown",
   "metadata": {},
   "source": [
    "### Visualisation des matrices intermédiaires"
   ]
  },
  {
   "attachments": {},
   "cell_type": "markdown",
   "metadata": {},
   "source": [
    "#### Représentation of g, and G (covariance et matrice spatiale)"
   ]
  },
  {
   "cell_type": "code",
   "execution_count": null,
   "metadata": {},
   "outputs": [],
   "source": [
    "plt.imshow(g_NM[:, :], cmap=\"inferno\", aspect=\"auto\")\n",
    "plt.title(\"g_NM\")\n",
    "plt.tight_layout()\n",
    "\n",
    "if SAVE_FIG:\n",
    "    plt.savefig(\n",
    "        save_path\n",
    "        + \"mix/\"\n",
    "        + \"g_mn\"\n",
    "        + \"_n_basis_\"\n",
    "        + str(n_basis)\n",
    "        + \"_n_fft_\"\n",
    "        + str(L)\n",
    "        + \".pdf\"\n",
    "    )"
   ]
  },
  {
   "cell_type": "code",
   "execution_count": null,
   "metadata": {},
   "outputs": [],
   "source": [
    "def G_mix(Q_FMM, g_NM):\n",
    "    g_NMM = []\n",
    "    for n_source in range(g_NM.shape[0]):\n",
    "        g_NMM.append(np.diag(g_NM[n_source]))\n",
    "\n",
    "    g_NMM = np.array(g_NMM)\n",
    "\n",
    "    G_NF = np.einsum(\n",
    "        \"fij, nij, ijf -> ni\",\n",
    "        np.linalg.inv(Q_FMM),\n",
    "        g_NMM,\n",
    "        np.linalg.inv(Q_FMM).conj().T,\n",
    "    )\n",
    "    return G_NF"
   ]
  },
  {
   "cell_type": "code",
   "execution_count": null,
   "metadata": {},
   "outputs": [],
   "source": [
    "# G_NF\n",
    "G_NF = G_mix(Q_FMM, g_NM)"
   ]
  },
  {
   "cell_type": "code",
   "execution_count": null,
   "metadata": {},
   "outputs": [],
   "source": [
    "plt.imshow(np.log(np.abs(G_NF)), cmap=\"inferno\", aspect=\"auto\")\n",
    "plt.colorbar()\n",
    "plt.title(\"G_NF_n_basis_\" + str(n_basis) + \"_n_fft_\" + str(L))\n",
    "plt.tight_layout()\n",
    "\n",
    "if SAVE_FIG:\n",
    "    plt.savefig(\n",
    "        save_path\n",
    "        + \"mix/\"\n",
    "        + \"G_NF\"\n",
    "        + \"_n_basis_\"\n",
    "        + str(n_basis)\n",
    "        + \"_n_fft_\"\n",
    "        + str(L)\n",
    "        + \".pdf\"\n",
    "    )"
   ]
  },
  {
   "attachments": {},
   "cell_type": "markdown",
   "metadata": {},
   "source": [
    "#### Représentation de W"
   ]
  },
  {
   "cell_type": "code",
   "execution_count": null,
   "metadata": {},
   "outputs": [],
   "source": [
    "fig = plt.figure()\n",
    "fig.set_size_inches(10, 6)\n",
    "\n",
    "plt.subplot(2, 2, 1)\n",
    "plt.imshow(np.log(W_NFK[0, :, :]), cmap=\"inferno\", aspect=\"auto\")\n",
    "plt.gca().invert_yaxis()\n",
    "plt.title(\"Matrice de base W0\")\n",
    "\n",
    "plt.subplot(2, 2, 2)\n",
    "plt.imshow(np.log(W_NFK[1, :, :]), cmap=\"inferno\", aspect=\"auto\")\n",
    "plt.gca().invert_yaxis()\n",
    "plt.title(\"Matrice de base W1\")\n",
    "\n",
    "plt.subplot(2, 2, 3)\n",
    "plt.imshow(np.log(W_NFK[2, :, :]), cmap=\"inferno\", aspect=\"auto\")\n",
    "plt.gca().invert_yaxis()\n",
    "plt.title(\"Matrice de base W2\")\n",
    "\n",
    "plt.subplot(2, 2, 4)\n",
    "plt.imshow(np.log(W_NFK[3, :, :]), cmap=\"inferno\", aspect=\"auto\")\n",
    "plt.gca().invert_yaxis()\n",
    "plt.title(\"Matrice de base W3\")\n",
    "\n",
    "plt.tight_layout()\n",
    "\n",
    "fig.tight_layout(pad=2.5)\n",
    "fig.suptitle(\"W_NFK_n_basis_\" + str(n_basis) + \"_n_fft_\" + str(L))\n",
    "\n",
    "if SAVE_FIG:\n",
    "    fig.savefig(\n",
    "        save_path\n",
    "        + \"base/\"\n",
    "        + \"W_NFK\"\n",
    "        + \"_n_basis_\"\n",
    "        + str(n_basis)\n",
    "        + \"_n_fft_\"\n",
    "        + str(L)\n",
    "        + \".pdf\"\n",
    "    )"
   ]
  },
  {
   "attachments": {},
   "cell_type": "markdown",
   "metadata": {},
   "source": [
    "#### Représentation des activations"
   ]
  },
  {
   "cell_type": "code",
   "execution_count": null,
   "metadata": {},
   "outputs": [],
   "source": [
    "fig = plt.figure()\n",
    "fig.set_size_inches(10, 6)\n",
    "\n",
    "plt.subplot(2, 2, 1)\n",
    "plt.imshow(H_NKT[0, :, :], cmap=\"inferno\", aspect=\"auto\")\n",
    "plt.gca().invert_yaxis()\n",
    "plt.title(\"Matrice de base H0\")\n",
    "\n",
    "plt.subplot(2, 2, 2)\n",
    "plt.imshow(H_NKT[1, :, :], cmap=\"inferno\", aspect=\"auto\")\n",
    "plt.gca().invert_yaxis()\n",
    "plt.title(\"Matrice de base H1\")\n",
    "\n",
    "plt.subplot(2, 2, 3)\n",
    "plt.imshow(H_NKT[2, :, :], cmap=\"inferno\", aspect=\"auto\")\n",
    "plt.gca().invert_yaxis()\n",
    "plt.title(\"Matrice de base H2\")\n",
    "\n",
    "plt.subplot(2, 2, 4)\n",
    "plt.imshow(H_NKT[3, :, :], cmap=\"inferno\", aspect=\"auto\")\n",
    "plt.gca().invert_yaxis()\n",
    "plt.title(\"Matrice de base H3\")\n",
    "\n",
    "plt.tight_layout()\n",
    "\n",
    "fig.tight_layout(pad=2.5)\n",
    "fig.suptitle(\"H_NKT_n_basis_\" + str(n_basis) + \"_n_fft_\" + str(L))\n",
    "\n",
    "if SAVE_FIG:\n",
    "    fig.savefig(\n",
    "        save_path\n",
    "        + \"activation/\"\n",
    "        + \"H_NKT\"\n",
    "        + \"_n_basis_\"\n",
    "        + str(n_basis)\n",
    "        + \"_n_fft_\"\n",
    "        + str(L)\n",
    "        + \".pdf\"\n",
    "    )"
   ]
  }
 ],
 "metadata": {
  "kernelspec": {
   "display_name": "P3S",
   "language": "python",
   "name": "python3"
  },
  "language_info": {
   "codemirror_mode": {
    "name": "ipython",
    "version": 3
   },
   "file_extension": ".py",
   "mimetype": "text/x-python",
   "name": "python",
   "nbconvert_exporter": "python",
   "pygments_lexer": "ipython3",
   "version": "3.10.8"
  },
  "orig_nbformat": 4,
  "vscode": {
   "interpreter": {
    "hash": "2011a595c94b6a73b54060f6a4d9915a152f934cd74fcad2403d0e39c89de16a"
   }
  }
 },
 "nbformat": 4,
 "nbformat_minor": 2
}
